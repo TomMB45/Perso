{
 "cells": [
  {
   "attachments": {},
   "cell_type": "markdown",
   "metadata": {},
   "source": [
    "/!\\ Execution longue"
   ]
  },
  {
   "cell_type": "code",
   "execution_count": 1,
   "metadata": {},
   "outputs": [],
   "source": [
    "%load_ext autoreload\n",
    "%autoreload 2"
   ]
  },
  {
   "cell_type": "code",
   "execution_count": 2,
   "metadata": {},
   "outputs": [],
   "source": [
    "import pandas as pd\n",
    "#import seaborn as sns\n",
    "import matplotlib.pyplot as plt\n",
    "import numpy as np\n",
    "import warnings\n",
    "warnings.filterwarnings('ignore')\n"
   ]
  },
  {
   "cell_type": "code",
   "execution_count": 3,
   "metadata": {},
   "outputs": [],
   "source": [
    "def calc_day(row):\n",
    "    \"\"\"\n",
    "    Calculates the day based on the hours \n",
    "\n",
    "    Parameters\n",
    "    ----------\n",
    "    row :\n",
    "        DataFrame row     \n",
    "    \"\"\"\n",
    "    Day = row['step']//24\n",
    "    return Day"
   ]
  },
  {
   "cell_type": "code",
   "execution_count": 4,
   "metadata": {},
   "outputs": [],
   "source": [
    "df = pd.read_csv('../data/Fraud.csv')\n"
   ]
  },
  {
   "cell_type": "code",
   "execution_count": 5,
   "metadata": {},
   "outputs": [
    {
     "data": {
      "text/html": [
       "<div>\n",
       "<style scoped>\n",
       "    .dataframe tbody tr th:only-of-type {\n",
       "        vertical-align: middle;\n",
       "    }\n",
       "\n",
       "    .dataframe tbody tr th {\n",
       "        vertical-align: top;\n",
       "    }\n",
       "\n",
       "    .dataframe thead th {\n",
       "        text-align: right;\n",
       "    }\n",
       "</style>\n",
       "<table border=\"1\" class=\"dataframe\">\n",
       "  <thead>\n",
       "    <tr style=\"text-align: right;\">\n",
       "      <th></th>\n",
       "      <th>step</th>\n",
       "      <th>type</th>\n",
       "      <th>amount</th>\n",
       "      <th>nameOrig</th>\n",
       "      <th>oldbalanceOrg</th>\n",
       "      <th>newbalanceOrig</th>\n",
       "      <th>nameDest</th>\n",
       "      <th>oldbalanceDest</th>\n",
       "      <th>newbalanceDest</th>\n",
       "      <th>isFraud</th>\n",
       "      <th>isFlaggedFraud</th>\n",
       "    </tr>\n",
       "  </thead>\n",
       "  <tbody>\n",
       "    <tr>\n",
       "      <th>0</th>\n",
       "      <td>1</td>\n",
       "      <td>PAYMENT</td>\n",
       "      <td>9839.64</td>\n",
       "      <td>C1231006815</td>\n",
       "      <td>170136.0</td>\n",
       "      <td>160296.36</td>\n",
       "      <td>M1979787155</td>\n",
       "      <td>0.0</td>\n",
       "      <td>0.0</td>\n",
       "      <td>0</td>\n",
       "      <td>0</td>\n",
       "    </tr>\n",
       "    <tr>\n",
       "      <th>1</th>\n",
       "      <td>1</td>\n",
       "      <td>PAYMENT</td>\n",
       "      <td>1864.28</td>\n",
       "      <td>C1666544295</td>\n",
       "      <td>21249.0</td>\n",
       "      <td>19384.72</td>\n",
       "      <td>M2044282225</td>\n",
       "      <td>0.0</td>\n",
       "      <td>0.0</td>\n",
       "      <td>0</td>\n",
       "      <td>0</td>\n",
       "    </tr>\n",
       "    <tr>\n",
       "      <th>2</th>\n",
       "      <td>1</td>\n",
       "      <td>TRANSFER</td>\n",
       "      <td>181.00</td>\n",
       "      <td>C1305486145</td>\n",
       "      <td>181.0</td>\n",
       "      <td>0.00</td>\n",
       "      <td>C553264065</td>\n",
       "      <td>0.0</td>\n",
       "      <td>0.0</td>\n",
       "      <td>1</td>\n",
       "      <td>0</td>\n",
       "    </tr>\n",
       "    <tr>\n",
       "      <th>3</th>\n",
       "      <td>1</td>\n",
       "      <td>CASH_OUT</td>\n",
       "      <td>181.00</td>\n",
       "      <td>C840083671</td>\n",
       "      <td>181.0</td>\n",
       "      <td>0.00</td>\n",
       "      <td>C38997010</td>\n",
       "      <td>21182.0</td>\n",
       "      <td>0.0</td>\n",
       "      <td>1</td>\n",
       "      <td>0</td>\n",
       "    </tr>\n",
       "    <tr>\n",
       "      <th>4</th>\n",
       "      <td>1</td>\n",
       "      <td>PAYMENT</td>\n",
       "      <td>11668.14</td>\n",
       "      <td>C2048537720</td>\n",
       "      <td>41554.0</td>\n",
       "      <td>29885.86</td>\n",
       "      <td>M1230701703</td>\n",
       "      <td>0.0</td>\n",
       "      <td>0.0</td>\n",
       "      <td>0</td>\n",
       "      <td>0</td>\n",
       "    </tr>\n",
       "  </tbody>\n",
       "</table>\n",
       "</div>"
      ],
      "text/plain": [
       "   step      type    amount     nameOrig  oldbalanceOrg  newbalanceOrig  \\\n",
       "0     1   PAYMENT   9839.64  C1231006815       170136.0       160296.36   \n",
       "1     1   PAYMENT   1864.28  C1666544295        21249.0        19384.72   \n",
       "2     1  TRANSFER    181.00  C1305486145          181.0            0.00   \n",
       "3     1  CASH_OUT    181.00   C840083671          181.0            0.00   \n",
       "4     1   PAYMENT  11668.14  C2048537720        41554.0        29885.86   \n",
       "\n",
       "      nameDest  oldbalanceDest  newbalanceDest  isFraud  isFlaggedFraud  \n",
       "0  M1979787155             0.0             0.0        0               0  \n",
       "1  M2044282225             0.0             0.0        0               0  \n",
       "2   C553264065             0.0             0.0        1               0  \n",
       "3    C38997010         21182.0             0.0        1               0  \n",
       "4  M1230701703             0.0             0.0        0               0  "
      ]
     },
     "execution_count": 5,
     "metadata": {},
     "output_type": "execute_result"
    }
   ],
   "source": [
    "df.head()"
   ]
  },
  {
   "cell_type": "code",
   "execution_count": 6,
   "metadata": {},
   "outputs": [
    {
     "name": "stdout",
     "output_type": "stream",
     "text": [
      "<class 'pandas.core.frame.DataFrame'>\n",
      "RangeIndex: 6362620 entries, 0 to 6362619\n",
      "Data columns (total 11 columns):\n",
      " #   Column          Dtype  \n",
      "---  ------          -----  \n",
      " 0   step            int64  \n",
      " 1   type            object \n",
      " 2   amount          float64\n",
      " 3   nameOrig        object \n",
      " 4   oldbalanceOrg   float64\n",
      " 5   newbalanceOrig  float64\n",
      " 6   nameDest        object \n",
      " 7   oldbalanceDest  float64\n",
      " 8   newbalanceDest  float64\n",
      " 9   isFraud         int64  \n",
      " 10  isFlaggedFraud  int64  \n",
      "dtypes: float64(5), int64(3), object(3)\n",
      "memory usage: 534.0+ MB\n"
     ]
    }
   ],
   "source": [
    "df.info()"
   ]
  },
  {
   "attachments": {},
   "cell_type": "markdown",
   "metadata": {},
   "source": [
    "# Analyse générale"
   ]
  },
  {
   "cell_type": "code",
   "execution_count": 7,
   "metadata": {},
   "outputs": [
    {
     "data": {
      "text/plain": [
       "(6362620, 11)"
      ]
     },
     "execution_count": 7,
     "metadata": {},
     "output_type": "execute_result"
    }
   ],
   "source": [
    "df.shape"
   ]
  },
  {
   "attachments": {},
   "cell_type": "markdown",
   "metadata": {},
   "source": [
    "Le Data Set regroupe 6362620 lignes"
   ]
  },
  {
   "cell_type": "code",
   "execution_count": 8,
   "metadata": {},
   "outputs": [
    {
     "name": "stdout",
     "output_type": "stream",
     "text": [
      "Le data set comporte 2722362 identifiants de compte destinataire unique soit 42.79  et 6353307 identifiants de compte d'origine unique/ \n",
      "CAD que 42.79% et 99.85% des opérations présent respectivement un identifiant de compte destinataire et d'origine unique.\n"
     ]
    }
   ],
   "source": [
    "dest_unique = df['nameDest'].nunique()\n",
    "orig_unique = df['nameOrig'].nunique()\n",
    "print(f\"Le data set comporte {dest_unique} identifiants de compte destinataire unique soit {dest_unique/df.shape[0] *100:.2f}  et {orig_unique} identifiants de compte d'origine unique/ \\n\"\n",
    "f\"CAD que {dest_unique/df.shape[0] *100:.2f}% et {orig_unique/df.shape[0] *100:.2f}% des opérations présent respectivement un identifiant de compte destinataire et d'origine unique.\")"
   ]
  },
  {
   "cell_type": "code",
   "execution_count": 9,
   "metadata": {},
   "outputs": [
    {
     "data": {
      "text/plain": [
       "CASH_OUT    2237500\n",
       "PAYMENT     2151495\n",
       "CASH_IN     1399284\n",
       "TRANSFER     532909\n",
       "DEBIT         41432\n",
       "Name: type, dtype: int64"
      ]
     },
     "execution_count": 9,
     "metadata": {},
     "output_type": "execute_result"
    }
   ],
   "source": [
    "df[\"type\"].value_counts()"
   ]
  },
  {
   "attachments": {},
   "cell_type": "markdown",
   "metadata": {},
   "source": [
    "Il existe 5 type d'opérations. La plus recurente étant \"CASH-OUT\""
   ]
  },
  {
   "cell_type": "code",
   "execution_count": 10,
   "metadata": {},
   "outputs": [],
   "source": [
    "# df_fraud_nb_trans_reçu = df[\"nameDest\"].unique()\n",
    "\n",
    "# df_fraud_nb_trans_reçu = np.random.choice(df_fraud_nb_trans_reçu,size = 1000)\n",
    "# count = 0\n",
    "# i = 0\n",
    "# for dest in df_fraud_nb_trans_reçu : \n",
    "#     count += df[df[\"nameDest\"] == dest].shape[0]\n",
    "#     i += 1\n",
    "#     print(f\"{i} : {count}\")\n",
    "# print(f\"Nombre de virement reçu moyen : {count/len(df_fraud_nb_trans_reçu)}\")\n",
    "\n",
    "# Execution time : 15 min "
   ]
  },
  {
   "attachments": {},
   "cell_type": "markdown",
   "metadata": {},
   "source": [
    "Nombre de virement reçu moyen : 2.49 sample = 1000"
   ]
  },
  {
   "cell_type": "code",
   "execution_count": 11,
   "metadata": {},
   "outputs": [
    {
     "data": {
      "text/html": [
       "<div>\n",
       "<style scoped>\n",
       "    .dataframe tbody tr th:only-of-type {\n",
       "        vertical-align: middle;\n",
       "    }\n",
       "\n",
       "    .dataframe tbody tr th {\n",
       "        vertical-align: top;\n",
       "    }\n",
       "\n",
       "    .dataframe thead tr th {\n",
       "        text-align: left;\n",
       "    }\n",
       "\n",
       "    .dataframe thead tr:last-of-type th {\n",
       "        text-align: right;\n",
       "    }\n",
       "</style>\n",
       "<table border=\"1\" class=\"dataframe\">\n",
       "  <thead>\n",
       "    <tr>\n",
       "      <th></th>\n",
       "      <th colspan=\"3\" halign=\"left\">amount</th>\n",
       "    </tr>\n",
       "    <tr>\n",
       "      <th></th>\n",
       "      <th>count</th>\n",
       "      <th>min</th>\n",
       "      <th>max</th>\n",
       "    </tr>\n",
       "    <tr>\n",
       "      <th>amount_range</th>\n",
       "      <th></th>\n",
       "      <th></th>\n",
       "      <th></th>\n",
       "    </tr>\n",
       "  </thead>\n",
       "  <tbody>\n",
       "    <tr>\n",
       "      <th>[0, 100]</th>\n",
       "      <td>14105</td>\n",
       "      <td>0.00</td>\n",
       "      <td>100.00</td>\n",
       "    </tr>\n",
       "    <tr>\n",
       "      <th>[1000001 +)</th>\n",
       "      <td>130626</td>\n",
       "      <td>1000008.72</td>\n",
       "      <td>92445516.64</td>\n",
       "    </tr>\n",
       "    <tr>\n",
       "      <th>[10001, 50000]</th>\n",
       "      <td>1519856</td>\n",
       "      <td>10000.02</td>\n",
       "      <td>49999.98</td>\n",
       "    </tr>\n",
       "    <tr>\n",
       "      <th>[1001, 5000]</th>\n",
       "      <td>559855</td>\n",
       "      <td>1000.01</td>\n",
       "      <td>5000.00</td>\n",
       "    </tr>\n",
       "    <tr>\n",
       "      <th>[101, 500]</th>\n",
       "      <td>56987</td>\n",
       "      <td>100.01</td>\n",
       "      <td>500.00</td>\n",
       "    </tr>\n",
       "    <tr>\n",
       "      <th>[200001, 1000000]</th>\n",
       "      <td>1542944</td>\n",
       "      <td>200000.08</td>\n",
       "      <td>999988.34</td>\n",
       "    </tr>\n",
       "    <tr>\n",
       "      <th>[50001, 200000]</th>\n",
       "      <td>1883103</td>\n",
       "      <td>50000.12</td>\n",
       "      <td>199999.86</td>\n",
       "    </tr>\n",
       "    <tr>\n",
       "      <th>[5001, 10000]</th>\n",
       "      <td>583590</td>\n",
       "      <td>5000.01</td>\n",
       "      <td>10000.00</td>\n",
       "    </tr>\n",
       "    <tr>\n",
       "      <th>[501, 1000]</th>\n",
       "      <td>71554</td>\n",
       "      <td>500.03</td>\n",
       "      <td>1000.00</td>\n",
       "    </tr>\n",
       "  </tbody>\n",
       "</table>\n",
       "</div>"
      ],
      "text/plain": [
       "                    amount                         \n",
       "                     count         min          max\n",
       "amount_range                                       \n",
       "[0, 100]             14105        0.00       100.00\n",
       "[1000001 +)         130626  1000008.72  92445516.64\n",
       "[10001, 50000]     1519856    10000.02     49999.98\n",
       "[1001, 5000]        559855     1000.01      5000.00\n",
       "[101, 500]           56987      100.01       500.00\n",
       "[200001, 1000000]  1542944   200000.08    999988.34\n",
       "[50001, 200000]    1883103    50000.12    199999.86\n",
       "[5001, 10000]       583590     5000.01     10000.00\n",
       "[501, 1000]          71554      500.03      1000.00"
      ]
     },
     "execution_count": 11,
     "metadata": {},
     "output_type": "execute_result"
    }
   ],
   "source": [
    "df.loc[df['amount'] <= 100, 'amount_range'] = '[0, 100]'\n",
    "df.loc[(df['amount'] > 100) & (df['amount'] <= 500), 'amount_range'] = '[101, 500]'\n",
    "df.loc[(df['amount'] > 500) & (df['amount'] <= 1000), 'amount_range'] = '[501, 1000]'\n",
    "df.loc[(df['amount'] > 1000) & (df['amount'] <= 5000), 'amount_range'] = '[1001, 5000]'\n",
    "df.loc[(df['amount'] > 5000) & (df['amount'] <= 10000), 'amount_range'] = '[5001, 10000]'\n",
    "df.loc[(df['amount'] > 10000) & (df['amount'] <= 50000), 'amount_range'] = '[10001, 50000]'\n",
    "df.loc[(df['amount'] > 50000) & (df['amount'] <= 200000), 'amount_range'] = '[50001, 200000]'\n",
    "df.loc[(df['amount'] > 200000) & (df['amount'] <= 1000000), 'amount_range'] = '[200001, 1000000]'\n",
    "df.loc[df['amount'] > 1000000, 'amount_range'] = '[1000001 +)'\n",
    "amount = df.groupby(['amount_range']).agg({'amount': ['count', 'min', 'max']})\n",
    "amount"
   ]
  },
  {
   "cell_type": "code",
   "execution_count": 12,
   "metadata": {},
   "outputs": [
    {
     "data": {
      "image/png": "[encoded data removed]",
      "text/plain": [
       "<Figure size 640x480 with 1 Axes>"
      ]
     },
     "metadata": {},
     "output_type": "display_data"
    }
   ],
   "source": [
    "X = ['[0, 100]','[101, 500]','[501, 1000]','[1001, 5000]','[5001, 10000]','[10001, 50000]','[50001, 200000]','[200001, 1000000]','[1000001 +)']\n",
    "Y = [amount.loc[i][0] for i in X]\n",
    "plt.bar(X,Y)\n",
    "plt.xlabel(\"Intervalle\")\n",
    "plt.xticks(rotation='vertical')\n",
    "plt.ylabel(\"Nombre d'opérations\")\n",
    "plt.show()"
   ]
  },
  {
   "attachments": {},
   "cell_type": "markdown",
   "metadata": {},
   "source": [
    "La majorité des montants transférés sont compris entre [10.001, 1.000.000] u"
   ]
  },
  {
   "cell_type": "code",
   "execution_count": 13,
   "metadata": {},
   "outputs": [
    {
     "data": {
      "text/plain": [
       "0    6362604\n",
       "1         16\n",
       "Name: isFlaggedFraud, dtype: int64"
      ]
     },
     "execution_count": 13,
     "metadata": {},
     "output_type": "execute_result"
    }
   ],
   "source": [
    "df[\"isFlaggedFraud\"].value_counts()"
   ]
  },
  {
   "attachments": {},
   "cell_type": "markdown",
   "metadata": {},
   "source": [
    "Seule 16 transactions sont suspectées d'êtres des fraudes"
   ]
  },
  {
   "cell_type": "code",
   "execution_count": 14,
   "metadata": {},
   "outputs": [],
   "source": [
    "df['day'] = df.apply(calc_day, axis=1)"
   ]
  },
  {
   "cell_type": "code",
   "execution_count": 15,
   "metadata": {},
   "outputs": [],
   "source": [
    "nb_transaction = df.groupby(['day']).agg({'step': ['count']})"
   ]
  },
  {
   "cell_type": "code",
   "execution_count": 16,
   "metadata": {},
   "outputs": [
    {
     "data": {
      "image/png": "[encoded data removed]",
      "text/plain": [
       "<Figure size 640x480 with 1 Axes>"
      ]
     },
     "metadata": {},
     "output_type": "display_data"
    }
   ],
   "source": [
    "X = nb_transaction.index\n",
    "Y = [nb_transaction.loc[i][0] for i in X]\n",
    "plt.bar(X,Y)\n",
    "plt.xlabel(\"Jour\")\n",
    "plt.xticks(rotation='vertical')\n",
    "plt.ylabel(\"Nombre d'opérations\")\n",
    "plt.show()"
   ]
  },
  {
   "attachments": {},
   "cell_type": "markdown",
   "metadata": {},
   "source": [
    "On constate une hétérogénéité dans le nombre de transfers effectuée chaque jours"
   ]
  },
  {
   "attachments": {},
   "cell_type": "markdown",
   "metadata": {},
   "source": [
    "# Analyse des transactions étant des fraudes"
   ]
  },
  {
   "cell_type": "code",
   "execution_count": 17,
   "metadata": {},
   "outputs": [
    {
     "data": {
      "text/plain": [
       "0    6354407\n",
       "1       8213\n",
       "Name: isFraud, dtype: int64"
      ]
     },
     "execution_count": 17,
     "metadata": {},
     "output_type": "execute_result"
    }
   ],
   "source": [
    "df['isFraud'].value_counts()"
   ]
  },
  {
   "attachments": {},
   "cell_type": "markdown",
   "metadata": {},
   "source": [
    "8213 transaction sur 6354407 sont frauduleuses soit  0.129% des transactions"
   ]
  },
  {
   "cell_type": "code",
   "execution_count": 18,
   "metadata": {},
   "outputs": [],
   "source": [
    "#Création du DF comprenant uniquement les transactions frauduleuses\n",
    "df_fraud = df[df['isFraud'] == 1]"
   ]
  },
  {
   "cell_type": "code",
   "execution_count": 19,
   "metadata": {},
   "outputs": [
    {
     "data": {
      "text/plain": [
       "CASH_OUT    4116\n",
       "TRANSFER    4097\n",
       "Name: type, dtype: int64"
      ]
     },
     "execution_count": 19,
     "metadata": {},
     "output_type": "execute_result"
    }
   ],
   "source": [
    "df_fraud[\"type\"].value_counts()"
   ]
  },
  {
   "attachments": {},
   "cell_type": "markdown",
   "metadata": {},
   "source": [
    "Seul les opérations de type 'CASH_OUT' et 'TRANSFER' aboutissent à des transactions fauduleuses"
   ]
  },
  {
   "cell_type": "code",
   "execution_count": 20,
   "metadata": {},
   "outputs": [],
   "source": [
    "amount_fraud = df_fraud.groupby(['amount_range']).agg({'amount': ['count', 'min', 'max']})"
   ]
  },
  {
   "cell_type": "code",
   "execution_count": 21,
   "metadata": {},
   "outputs": [
    {
     "data": {
      "image/png": "[encoded data removed]",
      "text/plain": [
       "<Figure size 640x480 with 1 Axes>"
      ]
     },
     "metadata": {},
     "output_type": "display_data"
    }
   ],
   "source": [
    "X = ['[0, 100]','[101, 500]','[501, 1000]','[1001, 5000]','[5001, 10000]','[10001, 50000]','[50001, 200000]','[200001, 1000000]','[1000001 +)']\n",
    "Y = [amount_fraud.loc[i][0] for i in X]\n",
    "plt.bar(X,Y)\n",
    "plt.xlabel(\"Intervalle\")\n",
    "plt.xticks(rotation='vertical')\n",
    "plt.ylabel(\"Nombre d'opérations\")\n",
    "plt.show()"
   ]
  },
  {
   "attachments": {},
   "cell_type": "markdown",
   "metadata": {},
   "source": [
    "On constate que la grande majorité des fraude ont lieu pour des montant supérieurs à 50 000 u"
   ]
  },
  {
   "cell_type": "code",
   "execution_count": 22,
   "metadata": {},
   "outputs": [
    {
     "data": {
      "text/plain": [
       "0    8197\n",
       "1      16\n",
       "Name: isFlaggedFraud, dtype: int64"
      ]
     },
     "execution_count": 22,
     "metadata": {},
     "output_type": "execute_result"
    }
   ],
   "source": [
    "df_fraud['isFlaggedFraud'].value_counts()"
   ]
  },
  {
   "attachments": {},
   "cell_type": "markdown",
   "metadata": {},
   "source": [
    "Les 16 transactions portant l'indicateur 'isFlaggedFraud' s'avèrent bien être des transactions frauduleuses "
   ]
  },
  {
   "cell_type": "code",
   "execution_count": 23,
   "metadata": {},
   "outputs": [],
   "source": [
    "nb_transaction_fraud = df_fraud.groupby(['day']).agg({'step': ['count']})"
   ]
  },
  {
   "cell_type": "code",
   "execution_count": 24,
   "metadata": {},
   "outputs": [
    {
     "data": {
      "image/png": "[encoded data removed]",
      "text/plain": [
       "<Figure size 640x480 with 1 Axes>"
      ]
     },
     "metadata": {},
     "output_type": "display_data"
    }
   ],
   "source": [
    "X = nb_transaction_fraud.index\n",
    "Y = [nb_transaction_fraud.loc[i][0] for i in X]\n",
    "plt.bar(X,Y)\n",
    "plt.xlabel(\"Jour\")\n",
    "plt.xticks(rotation='vertical')\n",
    "plt.ylabel(\"Nombre d'opérations\")\n",
    "plt.show()"
   ]
  },
  {
   "attachments": {},
   "cell_type": "markdown",
   "metadata": {},
   "source": [
    "Contrairement aux transferts dans leur généralité, le nombre de fraude par jour semble être assez constant"
   ]
  },
  {
   "attachments": {},
   "cell_type": "markdown",
   "metadata": {},
   "source": [
    "## Informations sur les comptes impliqués dans des transactions frauduleuses"
   ]
  },
  {
   "cell_type": "code",
   "execution_count": 25,
   "metadata": {},
   "outputs": [
    {
     "name": "stdout",
     "output_type": "stream",
     "text": [
      "Pourcentage de transactions fauduleuses lorsque que l'identifiants du compté destinataire commence par C : 0.20%\n",
      "Pourcentage de transactions fauduleuses lorsque que l'identifiants du compté destinataire commence par M (Marchand) : 0.00%\n"
     ]
    }
   ],
   "source": [
    "df_M = df[df.nameDest.str.match('M')]\n",
    "df_C = df[df.nameDest.str.match('C')]\n",
    "print(f\"Pourcentage de transactions fauduleuses lorsque que l'identifiants du compté destinataire commence par C : {df_C['isFraud'].value_counts()[1]/df_C.shape[0] *100:.2f}%\")\n",
    "print(f\"Pourcentage de transactions fauduleuses lorsque que l'identifiants du compté destinataire commence par M (Marchand) : {(df_M['isFraud'].value_counts()[0]-df_M.shape[0])/df_M.shape[0] *100:.2f}%\")"
   ]
  },
  {
   "attachments": {},
   "cell_type": "markdown",
   "metadata": {},
   "source": [
    "On constate que lorsqu'un compte Marchand est impliqué en tant que destinataire dans une transaction, celle ci ne peut pas être frauduleuse (Pour ce DataSet)"
   ]
  },
  {
   "cell_type": "code",
   "execution_count": 26,
   "metadata": {},
   "outputs": [
    {
     "name": "stdout",
     "output_type": "stream",
     "text": [
      " 44 comptes destinataire sont impliqué à deux reprise dans des transactions frauduleuses\n"
     ]
    }
   ],
   "source": [
    "df_fraud['nD_count'] = df_fraud.groupby('nameDest')['nameDest'].transform('count')\n",
    "df_fraud_twice = df_fraud[df_fraud['nD_count'] == 2]\n",
    "print(f\" {df_fraud_twice['nameDest'].nunique()} comptes destinataire sont impliqué à deux reprise dans des transactions frauduleuses\")"
   ]
  },
  {
   "cell_type": "code",
   "execution_count": 27,
   "metadata": {},
   "outputs": [
    {
     "data": {
      "text/plain": [
       "(0, 15)"
      ]
     },
     "execution_count": 27,
     "metadata": {},
     "output_type": "execute_result"
    }
   ],
   "source": [
    "df_fraud['nO_count'] = df_fraud.groupby('nameOrig')['nameOrig'].transform('count')\n",
    "df_frauded_twice = df_fraud[df_fraud['nO_count'] > 1]\n",
    "df_frauded_twice.shape"
   ]
  },
  {
   "attachments": {},
   "cell_type": "markdown",
   "metadata": {},
   "source": [
    "Aucun compte d'origine n'a été impliqué plus d'une fois dans une fraude"
   ]
  }
 ],
 "metadata": {
  "kernelspec": {
   "display_name": "base",
   "language": "python",
   "name": "python3"
  },
  "language_info": {
   "codemirror_mode": {
    "name": "ipython",
    "version": 3
   },
   "file_extension": ".py",
   "mimetype": "text/x-python",
   "name": "python",
   "nbconvert_exporter": "python",
   "pygments_lexer": "ipython3",
   "version": "3.9.15"
  },
  "orig_nbformat": 4,
  "vscode": {
   "interpreter": {
    "hash": "64cdbf2ddcb9cd73e43d780a5c38adc9c5cb93dd1a925db9d35733ec03fb2329"
   }
  }
 },
 "nbformat": 4,
 "nbformat_minor": 2
}
