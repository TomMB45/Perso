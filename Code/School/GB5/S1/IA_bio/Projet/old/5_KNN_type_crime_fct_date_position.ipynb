{
 "cells": [
  {
   "attachments": {},
   "cell_type": "markdown",
   "metadata": {},
   "source": [
    "# prédiction de type en fct date et lieu "
   ]
  },
  {
   "attachments": {},
   "cell_type": "markdown",
   "metadata": {},
   "source": [
    "Après ces essais infructueux nous avons tenté de mettre en place un modèle de prédiction de type de crime en fonction de la date et de la position. Nous avons donc utilisé le modèle KNN classifier."
   ]
  },
  {
   "cell_type": "code",
   "execution_count": 1,
   "metadata": {},
   "outputs": [],
   "source": [
    "%load_ext autoreload\n",
    "%autoreload 2"
   ]
  },
  {
   "cell_type": "code",
   "execution_count": 2,
   "metadata": {},
   "outputs": [],
   "source": [
    "import pandas as pd \n",
    "import warnings \n",
    "warnings.filterwarnings('ignore')\n",
    "import matplotlib.pyplot as plt\n",
    "import random \n",
    "import folium\n",
    "import numpy as np\n",
    "from sklearn.neighbors import KNeighborsRegressor\n",
    "random.seed(42)\n",
    "import os"
   ]
  },
  {
   "cell_type": "code",
   "execution_count": 3,
   "metadata": {},
   "outputs": [],
   "source": [
    "df = pd.read_csv('../data/crime_in_la.csv')"
   ]
  },
  {
   "cell_type": "code",
   "execution_count": 4,
   "metadata": {},
   "outputs": [],
   "source": [
    "df = df[df['Premis Desc'].notna()]\n",
    "df = df[(df['LAT']!=0) & (df['LON']!=0)]\n",
    "df['date'] = pd.to_datetime(df['DATE OCC'], format='%d/%m/%Y')\n",
    "df.set_index('date', inplace=True)\n",
    "df_f = df[[\"LAT\",\"LON\",\"Crm Cd\"]]\n",
    "df_f[\"Crm Cd\"] = df_f[\"Crm Cd\"].astype(str)\n",
    "\n",
    "df_f = df_f.head(10000)\n",
    "\n",
    "# Train begin on the 01/01/2022\n",
    "date = '01-01-2022'\n",
    "\n",
    "# train = df_f[df_f.index < date].copy()\n",
    "# test = df_f[df_f.index >= date].copy()\n",
    "train = df_f.head(8000).copy()\n",
    "test = df_f.tail(2000).copy()\n",
    "\n",
    "def get_data(df, labels= None):\n",
    "    \"\"\"\n",
    "    Fonction permettant de créer les features à partir de la date\n",
    "\n",
    "    Parameters\n",
    "    ----------\n",
    "    df : DataFrame\n",
    "        DataFrame contenant les données\n",
    "    labels : DataFrame, optional\n",
    "        Noms des labels dans le dataframe\n",
    "    \n",
    "    Returns\n",
    "    -------\n",
    "    X : DataFrame\n",
    "        DataFrame contenant les features\n",
    "    y : DataFrame, optional\n",
    "        DataFrame contenant les labels\n",
    "    \"\"\"\n",
    "    df['date'] = df.index\n",
    "    df['dayofweek'] = df['date'].dt.dayofweek\n",
    "    df['quarter'] = df['date'].dt.quarter\n",
    "    df['month'] = df['date'].dt.month\n",
    "    df['year'] = df['date'].dt.year\n",
    "    df['dayofyear'] = df['date'].dt.dayofyear\n",
    "    df['dayofmonth'] = df['date'].dt.day\n",
    "    df['weekofyear'] = df['date'].dt.weekofyear\n",
    "    \n",
    "\n",
    "    X = df[['dayofweek','quarter','month','year', 'dayofyear','dayofmonth','weekofyear',\"LAT\",\"LON\"]]\n",
    "    if labels:\n",
    "        y = df[labels]\n",
    "        return X, y\n",
    "    return X\n",
    "\n",
    "X_train, y_train = get_data(train, labels=[\"Crm Cd\"])\n",
    "X_test, y_test = get_data(test, labels=[\"Crm Cd\"])"
   ]
  },
  {
   "cell_type": "code",
   "execution_count": 5,
   "metadata": {},
   "outputs": [],
   "source": [
    "from geopy.distance import geodesic as GD\n",
    "def from_geo_to_m(lon1,lon2,lat1,lat2) :\n",
    "    \"\"\"\n",
    "    Conversion de coordonnées géographiques en mètres\n",
    "    \n",
    "    Parameters\n",
    "    ----------\n",
    "    lon1 : float\n",
    "        Longitude du point 1\n",
    "    lon2 : float\n",
    "        Longitude du point 2\n",
    "    lat1 : float\n",
    "        Latitude du point 1\n",
    "    lat2 : float\n",
    "        Latitude du point 2\n",
    "    \n",
    "    Returns\n",
    "    -------\n",
    "    float\n",
    "        Distance en mètres entre les deux points\n",
    "    \"\"\"\n",
    "    return GD((lat1,lon1),(lat2,lon2)).m"
   ]
  },
  {
   "cell_type": "code",
   "execution_count": 6,
   "metadata": {},
   "outputs": [
    {
     "name": "stdout",
     "output_type": "stream",
     "text": [
      "Accuracy : 0.959\n",
      "Accuracy : 0.1075\n"
     ]
    }
   ],
   "source": [
    "from sklearn.neighbors import KNeighborsClassifier\n",
    "from sklearn.metrics import accuracy_score\n",
    "\n",
    "model = KNeighborsClassifier(\n",
    "    n_neighbors=100, \n",
    "    weights='distance', \n",
    "    algorithm='ball_tree', \n",
    "    leaf_size=30, \n",
    "    p=2, \n",
    "    metric='minkowski', \n",
    "    metric_params=None, \n",
    "    n_jobs=None)\n",
    "\n",
    "model.fit(X_train, y_train)\n",
    "\n",
    "y_pred_train = model.predict(X_train)\n",
    "print(f\"Accuracy : {accuracy_score(y_train, y_pred_train)}\")\n",
    "\n",
    "y_pred = model.predict(X_test)\n",
    "print(f\"Accuracy : {accuracy_score(y_test, y_pred)}\")"
   ]
  },
  {
   "attachments": {},
   "cell_type": "markdown",
   "metadata": {},
   "source": [
    "L'accuracy sur le train est très élevée (0.95) mais sur le test elle est très faible (0.10). On est donc surement face à un problème de sur-apprentissage."
   ]
  }
 ],
 "metadata": {
  "kernelspec": {
   "display_name": "base",
   "language": "python",
   "name": "python3"
  },
  "language_info": {
   "codemirror_mode": {
    "name": "ipython",
    "version": 3
   },
   "file_extension": ".py",
   "mimetype": "text/x-python",
   "name": "python",
   "nbconvert_exporter": "python",
   "pygments_lexer": "ipython3",
   "version": "3.9.15"
  },
  "orig_nbformat": 4,
  "vscode": {
   "interpreter": {
    "hash": "64cdbf2ddcb9cd73e43d780a5c38adc9c5cb93dd1a925db9d35733ec03fb2329"
   }
  }
 },
 "nbformat": 4,
 "nbformat_minor": 2
}
