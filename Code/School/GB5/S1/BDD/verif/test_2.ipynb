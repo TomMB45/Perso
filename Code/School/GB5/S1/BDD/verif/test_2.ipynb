{
 "cells": [
  {
   "cell_type": "code",
   "execution_count": 1,
   "metadata": {},
   "outputs": [],
   "source": [
    "%load_ext autoreload\n",
    "%autoreload 2"
   ]
  },
  {
   "cell_type": "markdown",
   "metadata": {},
   "source": [
    "# test aleatoire"
   ]
  },
  {
   "cell_type": "markdown",
   "metadata": {},
   "source": [
    "## Parametres "
   ]
  },
  {
   "cell_type": "code",
   "execution_count": 2,
   "metadata": {},
   "outputs": [],
   "source": [
    "nb_pays = 10 \n",
    "nb_vegetaux = 10\n",
    "nb_parasites = 10\n",
    "nb_sensi = 5\n",
    "pays = [\"Allemagne\", \"Italie\", \"Espagne\", \"Portugal\", \"Belgique\", \"Suisse\", \"Luxembourg\", \"Pays-Bas\", \"Danemark\",\"USA\",\"Egypte\",\"Coree du Sud\",\"Japon\",\"Chine\",\"Russie\",\"Inde\",\"Indonesie\",\"Bresil\",\"Mexique\",\"Cameroun\",\"Benin\"]\n",
    "vegetaux = [\"Tomate\", \"Poivron\", \"Courgette\", \"Aubergine\", \"Haricot\", \"Pomme de terre\", \"Carotte\", \"Salade\", \"Chou\", \"Betterave\",\"Pin\",\"Chataignier\",\"Chene\",\"Peuplier\",\"Hetre\",\"Bouleau\",\"Frene\",\"If\",\"Charme\",\"Orme\",\"Marronnier\",\"Tilleul\",\"Noisetier\"]\n",
    "parasites = [\"Puceron\",\"Gui\",\"Chien\",\"Chat\",\"Lapin\",\"Pigeon\",\"Poule\",\"Poulet\",\"Cochon\",\"Vache\",\"Abeille\",\"Guepe\",\"Fourmi\",\"Moustique\",\"Punaise\",\"Mouche\",\"Papillon\",\"Coccinelle\",\"Araignee\",\"Sauterelle\"]"
   ]
  },
  {
   "cell_type": "code",
   "execution_count": 3,
   "metadata": {},
   "outputs": [
    {
     "name": "stdout",
     "output_type": "stream",
     "text": [
      "Pays choisi 1 :  Belgique \n",
      "Pays choisi 2 :  USA\n",
      "Vegetal choisi :  If\n"
     ]
    }
   ],
   "source": [
    "## Choose a random country and a vegetable \n",
    "import random\n",
    "pays_choisi_1,pays_choisi_2 = random.sample(pays,2)\n",
    "vegetal_choisi = random.choice(vegetaux)\n",
    "print(\"Pays choisi 1 : \", pays_choisi_1, \"\\nPays choisi 2 : \", pays_choisi_2)\n",
    "print(\"Vegetal choisi : \", vegetal_choisi)"
   ]
  },
  {
   "cell_type": "code",
   "execution_count": 4,
   "metadata": {},
   "outputs": [
    {
     "data": {
      "text/plain": [
       "False"
      ]
     },
     "execution_count": 4,
     "metadata": {},
     "output_type": "execute_result"
    }
   ],
   "source": [
    "sample_pays = random.sample(pays, nb_pays)\n",
    "sample_vegetaux = random.sample(vegetaux, nb_vegetaux)\n",
    "sample_parasites = random.sample(parasites, nb_parasites)\n",
    "fill_p = [f\"INSERT INTO Pays (nom_pays, periode_quarantaine) VALUES ('{sample_pays[i]}', 0);\" for i in range(len(sample_pays))]\n",
    "fill_v = [] \n",
    "\n",
    "d_v = {}\n",
    "for i in sample_vegetaux : \n",
    "    survie = random.randint(1,10)\n",
    "    fill_v.append(f\"INSERT INTO Vegetal (nom_vegetal,duree_survie_v) VALUES ('{i}',{survie});\")\n",
    "    d_v[i] = survie\n",
    "\n",
    "fill_trajet = []\n",
    "fill_achemine = []\n",
    "oracle = False\n",
    "\n",
    "id_trajet = 1\n",
    "for i in range(30) : \n",
    "    pays_depart = random.choice(sample_pays)\n",
    "    pays_arrivee = random.choice(sample_pays)\n",
    "    nb_etape = random.randint(0,2)\n",
    "    duree_trajet = random.randint(1,10)\n",
    "    transport_v = random.choice(sample_vegetaux)\n",
    "\n",
    "    fill_trajet.append(f\"INSERT INTO Trajet (id_trajet, nombre_etapes,duree_trajet_sans_etape,moyen_transport_1,moyen_transport_2,moyen_transport_3,nom_pays_depart,nom_pays_arrivee) VALUES ({id_trajet}, {nb_etape}, {duree_trajet} , 'avion', NULL, NULL, '{pays_depart}', '{pays_arrivee}');\")\n",
    "    fill_achemine.append(f\"INSERT INTO achemine (id_trajet, nom_vegetal) VALUES ({id_trajet}, '{transport_v}');\")\n",
    "    if nb_etape == 1 and d_v[transport_v] > duree_trajet+nb_etape and (pays_depart == pays_choisi_1 or pays_arrivee == pays_choisi_1) and (pays_depart == pays_choisi_2 or pays_arrivee == pays_choisi_2) :\n",
    "        print(1) \n",
    "        oracle = True\n",
    "    id_trajet += 1\n",
    "\n",
    "fill_sensi_volon = []\n",
    "for i in range(30):\n",
    "    if len(sample_pays) == 0 or len(sample_vegetaux) == 0 :\n",
    "        break \n",
    "    p = random.choice(sample_pays)\n",
    "    v = random.choice(sample_vegetaux)\n",
    "    sample_pays.remove(p)\n",
    "    sample_vegetaux.remove(v)\n",
    "    env = 1\n",
    "    hist = random.randint(0,1)\n",
    "    fill_sensi_volon.append(f\"INSERT INTO sensible_volontairement (nom_pays, nom_vegetal,caractere_envahissant,historique) VALUES ('{p}', '{v}', {env}, {hist});\")\n",
    "\n",
    "    if (p == pays_choisi_1 or p == pays_choisi_2) and v == vegetal_choisi and oracle == True :\n",
    "        oracle = True\n",
    "oracle\n",
    "# f = open(\"data_file/1.txt\", \"w\")\n",
    "# for i in fill_p:\n",
    "#     f.write(i +\"\\n\")\n",
    "# f.write(\"\\n\")\n",
    "# for i in fill_v:\n",
    "#     f.write(i +\"\\n\")\n",
    "# f.write(\"\\n\")\n",
    "\n",
    "# for i in fill_pa:\n",
    "#     f.write(i +\"\\n\")\n",
    "# f.write(\"\\n\")\n",
    "\n",
    "# for i in fill_sensi_volon:\n",
    "#     f.write(i +\"\\n\")\n",
    "# f.write(\"\\n\")\n",
    "\n",
    "# f.close()\n",
    "\n",
    "# f = open(\"data_file/1_info.txt\", \"w\")\n",
    "# f.write(f\"{pays_choisi}\\n{vegetal_choisi}\\n{oracle}\")\n",
    "# f.close()\n",
    "\n",
    "# print(f\"{oracle}\")\n"
   ]
  },
  {
   "cell_type": "markdown",
   "metadata": {},
   "source": [
    "## functions "
   ]
  },
  {
   "cell_type": "code",
   "execution_count": 5,
   "metadata": {},
   "outputs": [],
   "source": [
    "def generate_data(n_iter):\n",
    "    nb_pays = 10 \n",
    "    nb_vegetaux = 10\n",
    "    nb_parasites = 10\n",
    "    nb_sensi = 5\n",
    "    pays = [\"Allemagne\", \"Italie\", \"Espagne\", \"Portugal\", \"Belgique\", \"Suisse\", \"Luxembourg\", \"Pays-Bas\", \"Danemark\",\"USA\",\"Egypte\",\"Coree du Sud\",\"Japon\",\"Chine\",\"Russie\",\"Inde\",\"Indonesie\",\"Bresil\",\"Mexique\",\"Cameroun\",\"Benin\"]\n",
    "    vegetaux = [\"Tomate\", \"Poivron\", \"Courgette\", \"Aubergine\", \"Haricot\", \"Pomme de terre\", \"Carotte\", \"Salade\", \"Chou\", \"Betterave\",\"Pin\",\"Chataignier\",\"Chene\",\"Peuplier\",\"Hetre\",\"Bouleau\",\"Frene\",\"If\",\"Charme\",\"Orme\",\"Marronnier\",\"Tilleul\",\"Noisetier\"]\n",
    "    parasites = [\"Puceron\",\"Gui\",\"Chien\",\"Chat\",\"Lapin\",\"Pigeon\",\"Poule\",\"Poulet\",\"Cochon\",\"Vache\",\"Abeille\",\"Guepe\",\"Fourmi\",\"Moustique\",\"Punaise\",\"Mouche\",\"Papillon\",\"Coccinelle\",\"Araignee\",\"Sauterelle\"]\n",
    "    \n",
    "    for iter in range(1,n_iter+1) :  \n",
    "        sample_pays = random.sample(pays, nb_pays)\n",
    "        sample_vegetaux = random.sample(vegetaux, nb_vegetaux)\n",
    "        fill_p = [f\"INSERT INTO Pays (nom_pays, periode_quarantaine) VALUES ('{sample_pays[i]}', 0);\" for i in range(len(sample_pays))]\n",
    "        fill_v = [] \n",
    "\n",
    "        d_v = {}\n",
    "        for i in sample_vegetaux : \n",
    "            survie = random.randint(1,10)\n",
    "            fill_v.append(f\"INSERT INTO Vegetal (nom_vegetal,duree_survie_v) VALUES ('{i}',{survie});\")\n",
    "            d_v[i] = survie\n",
    "\n",
    "        fill_trajet = []\n",
    "        fill_achemine = []\n",
    "        oracle = False\n",
    "        oracle_l = []\n",
    "\n",
    "        id_trajet = 1\n",
    "        for i in range(30) : \n",
    "            pays_depart = random.choice(sample_pays)\n",
    "            pays_arrivee = random.choice(sample_pays)\n",
    "            nb_etape = random.randint(0,2)\n",
    "            duree_trajet = random.randint(1,10)\n",
    "            transport_v = random.choice(sample_vegetaux)\n",
    "\n",
    "            fill_trajet.append(f\"INSERT INTO Trajet VALUES ({id_trajet}, {nb_etape}, {duree_trajet} , 'avion', NULL, NULL, '{pays_depart}', '{pays_arrivee}');\")\n",
    "            fill_achemine.append(f\"INSERT INTO achemine (id_trajet, nom_vegetal) VALUES ({id_trajet}, '{transport_v}');\")\n",
    "            if nb_etape == 1 and d_v[transport_v] > duree_trajet+nb_etape and (pays_depart == pays_choisi_1 or pays_arrivee == pays_choisi_1) and (pays_depart == pays_choisi_2 or pays_arrivee == pays_choisi_2) :\n",
    "                oracle = True\n",
    "            id_trajet += 1\n",
    "\n",
    "        fill_sensi_volon = []\n",
    "        while len(sample_pays) == 0 or len(sample_vegetaux) == 0 :\n",
    "            p = random.choice(sample_pays)\n",
    "            v = random.choice(sample_vegetaux)\n",
    "            sample_pays.remove(p)\n",
    "            sample_vegetaux.remove(v)\n",
    "            env = 1\n",
    "            hist = random.randint(0,1)\n",
    "            fill_sensi_volon.append(f\"INSERT INTO sensible_volontairement (nom_pays, nom_vegetal,caractere_envahissant,historique) VALUES ('{p}', '{v}', {env}, {hist});\")\n",
    "\n",
    "            if (p == pays_choisi_1 or p == pays_choisi_2) and v == vegetal_choisi and oracle == True :\n",
    "                oracle = True\n",
    "        \n",
    "        f = open(f\"data_file/q2/{iter}.txt\", \"w\")\n",
    "        for i in fill_p:\n",
    "            f.write(i +\"\\n\")\n",
    "        f.write(\"\\n\")\n",
    "        for i in fill_v:\n",
    "            f.write(i +\"\\n\")\n",
    "        f.write(\"\\n\")\n",
    "        for i in fill_trajet:\n",
    "            f.write(i +\"\\n\")\n",
    "        f.write(\"\\n\")\n",
    "        for i in fill_sensi_volon:\n",
    "            f.write(i +\"\\n\")\n",
    "        f.write(\"\\n\")\n",
    "        for i in fill_achemine:\n",
    "            f.write(i +\"\\n\")\n",
    "        f.write(\"\\n\")\n",
    "        f.close()\n",
    "\n",
    "        f = open(f\"data_file/q2/{iter}_info.txt\", \"w\")\n",
    "        f.write(f\"{pays_choisi_1}\\n{pays_choisi_2}\\n{vegetal_choisi}\\n{oracle}\")\n",
    "        f.close()\n",
    "\n",
    "generate_data(20, 10, 10, 10, 30)"
   ]
  }
 ],
 "metadata": {
  "kernelspec": {
   "display_name": "Python 3.9.13 ('base')",
   "language": "python",
   "name": "python3"
  },
  "language_info": {
   "codemirror_mode": {
    "name": "ipython",
    "version": 3
   },
   "file_extension": ".py",
   "mimetype": "text/x-python",
   "name": "python",
   "nbconvert_exporter": "python",
   "pygments_lexer": "ipython3",
   "version": "3.9.13"
  },
  "orig_nbformat": 4,
  "vscode": {
   "interpreter": {
    "hash": "64cdbf2ddcb9cd73e43d780a5c38adc9c5cb93dd1a925db9d35733ec03fb2329"
   }
  }
 },
 "nbformat": 4,
 "nbformat_minor": 2
}
