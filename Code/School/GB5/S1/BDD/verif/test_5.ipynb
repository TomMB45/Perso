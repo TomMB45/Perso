{
 "cells": [
  {
   "cell_type": "code",
   "execution_count": 2,
   "metadata": {},
   "outputs": [],
   "source": [
    "%load_ext autoreload\n",
    "%autoreload 2"
   ]
  },
  {
   "cell_type": "code",
   "execution_count": 3,
   "metadata": {},
   "outputs": [],
   "source": [
    "import random "
   ]
  },
  {
   "cell_type": "markdown",
   "metadata": {},
   "source": [
    "# test aleatoire"
   ]
  },
  {
   "cell_type": "markdown",
   "metadata": {},
   "source": [
    "## Parametres "
   ]
  },
  {
   "cell_type": "code",
   "execution_count": 4,
   "metadata": {},
   "outputs": [],
   "source": [
    "nb_pays = 10 \n",
    "nb_vegetaux = 10\n",
    "nb_parasites = 10\n",
    "nb_sensi = 5\n",
    "pays = [\"Allemagne\", \"Italie\", \"Espagne\", \"Portugal\", \"Belgique\", \"Suisse\", \"Luxembourg\", \"Pays-Bas\", \"Danemark\",\"USA\",\"Egypte\",\"Coree du Sud\",\"Japon\",\"Chine\",\"Russie\",\"Inde\",\"Indonesie\",\"Bresil\",\"Mexique\",\"Cameroun\",\"Benin\"]\n",
    "vegetaux = [\"Tomate\", \"Poivron\", \"Courgette\", \"Aubergine\", \"Haricot\", \"Pomme de terre\", \"Carotte\", \"Salade\", \"Chou\", \"Betterave\",\"Pin\",\"Chataignier\",\"Chene\",\"Peuplier\",\"Hetre\",\"Bouleau\",\"Frene\",\"If\",\"Charme\",\"Orme\",\"Marronnier\",\"Tilleul\",\"Noisetier\"]\n",
    "parasites = [\"Puceron\",\"Gui\",\"Chien\",\"Chat\",\"Lapin\",\"Pigeon\",\"Poule\",\"Poulet\",\"Cochon\",\"Vache\",\"Abeille\",\"Guepe\",\"Fourmi\",\"Moustique\",\"Punaise\",\"Mouche\",\"Papillon\",\"Coccinelle\",\"Araignee\",\"Sauterelle\"]"
   ]
  },
  {
   "cell_type": "code",
   "execution_count": 5,
   "metadata": {},
   "outputs": [
    {
     "data": {
      "text/plain": [
       "'Aubergine'"
      ]
     },
     "execution_count": 5,
     "metadata": {},
     "output_type": "execute_result"
    }
   ],
   "source": [
    "vegetal_choisi = random.choice(vegetaux)\n",
    "vegetal_choisi "
   ]
  },
  {
   "cell_type": "markdown",
   "metadata": {},
   "source": [
    "## functions "
   ]
  },
  {
   "cell_type": "code",
   "execution_count": 11,
   "metadata": {},
   "outputs": [
    {
     "name": "stdout",
     "output_type": "stream",
     "text": [
      "[]\n",
      "[]\n",
      "[]\n",
      "['Pays-Bas', 'USA']\n",
      "[]\n",
      "[]\n",
      "[]\n",
      "[]\n",
      "[]\n",
      "[]\n",
      "[]\n",
      "['Belgique']\n",
      "[]\n",
      "[]\n",
      "[]\n",
      "['Japon']\n",
      "['Egypte']\n",
      "[]\n",
      "['Benin']\n",
      "[]\n"
     ]
    }
   ],
   "source": [
    "def generate_data(n_iter, nb_pays, nb_vegetaux, nb_parasites, nb_sensi):\n",
    "    for iter in range(1,n_iter+1) :  \n",
    "        sample_pays = random.sample(pays, nb_pays)\n",
    "        sample_vegetaux = random.sample(vegetaux, nb_vegetaux)\n",
    "        sample_parasites = random.sample(parasites, nb_parasites)\n",
    "        fill_p = [] \n",
    "\n",
    "        transport_potentiels = {}\n",
    "        for i in sample_pays :\n",
    "            douane = random.randint(0,100) \n",
    "            fill_p.append(f\"INSERT INTO Pays (nom_pays, periode_quarantaine) VALUES ('{i}', {douane});\")\n",
    "            transport_potentiels[i] = [douane]\n",
    "        \n",
    "        fill_v = [] \n",
    "        d_v = {}\n",
    "        for i in sample_vegetaux : \n",
    "            survie = random.randint(1,10)\n",
    "            fill_v.append(f\"INSERT INTO Vegetal (nom_vegetal,duree_survie_v) VALUES ('{i}',{survie});\")\n",
    "            d_v[i] = survie\n",
    "\n",
    "        fill_trajet = []\n",
    "        fill_achemine = []\n",
    "        pays_potentiels = []\n",
    "        oracle = []\n",
    "        id_trajet = 1\n",
    "        for i in range(30) : \n",
    "            pays_depart = random.choice(sample_pays)\n",
    "            pays_arrivee = random.choice(sample_pays)\n",
    "            nb_etape = random.randint(1,2)\n",
    "            duree_trajet = random.randint(1,10)\n",
    "            transport_v = random.choice(sample_vegetaux)\n",
    "\n",
    "            fill_trajet.append(f\"INSERT INTO Trajet (id_trajet, nombre_etapes,duree_trajet_sans_etape,moyen_transport_1,moyen_transport_2,moyen_transport_3,nom_pays_depart,nom_pays_arrivee) VALUES ({id_trajet}, {nb_etape}, {duree_trajet} , 'avion', NULL, NULL, '{pays_depart}', '{pays_arrivee}');\")\n",
    "            fill_achemine.append(f\"INSERT INTO achemine (id_trajet, nom_vegetal) VALUES ({id_trajet}, '{transport_v}');\")\n",
    "            if nb_etape == 2 and d_v[transport_v] > duree_trajet+nb_etape+(duree_trajet*transport_potentiels[pays_arrivee][0]/100) :\n",
    "                pays_potentiels.append(pays_arrivee)\n",
    "                transport_potentiels[pays_arrivee].append(transport_v)\n",
    "            id_trajet += 1\n",
    "\n",
    "        fill_sensi_volon = []\n",
    "        for i in range(30):\n",
    "            if len(sample_pays) == 0 or len(sample_vegetaux) == 0 :\n",
    "                break \n",
    "            p = random.choice(sample_pays)\n",
    "            v = random.choice(sample_vegetaux)\n",
    "            sample_pays.remove(p)\n",
    "            sample_vegetaux.remove(v)\n",
    "            # env = random.randint(0,1)\n",
    "            env = 1 \n",
    "            # hist = random.randint(0,1)\n",
    "            hist = 0\n",
    "            fill_sensi_volon.append(f\"INSERT INTO sensible_volontairement (nom_pays, nom_vegetal,caractere_envahissant,historique) VALUES ('{p}', '{v}', {env}, {hist});\")\n",
    "\n",
    "            if p in pays_potentiels and transport_potentiels[p][1] == v and hist == 0 and env == 1 : \n",
    "                oracle.append(p)\n",
    "        print(oracle)\n",
    "        \n",
    "        f = open(f\"data_file/q5/{iter}.txt\", \"w\")\n",
    "        for i in fill_p:\n",
    "            f.write(i +\"\\n\")\n",
    "        f.write(\"\\n\")\n",
    "        for i in fill_v:\n",
    "            f.write(i +\"\\n\")\n",
    "        f.write(\"\\n\")\n",
    "        for i in fill_trajet:\n",
    "            f.write(i +\"\\n\")\n",
    "        f.write(\"\\n\")\n",
    "        for i in fill_sensi_volon:\n",
    "            f.write(i +\"\\n\")\n",
    "        f.write(\"\\n\")\n",
    "        for i in fill_achemine:\n",
    "            f.write(i +\"\\n\")\n",
    "        f.write(\"\\n\")\n",
    "        f.close()\n",
    "\n",
    "        f = open(f\"data_file/q5/{iter}_info.txt\", \"w\")\n",
    "        # f.write(f\"{vegetal_choisi}\\n\")\n",
    "        for i in oracle:\n",
    "            f.write(f\"{i}\\n\")\n",
    "        f.close()\n",
    "    \n",
    "\n",
    "generate_data(20, 10, 10, 10, 30)"
   ]
  }
 ],
 "metadata": {
  "kernelspec": {
   "display_name": "Python 3.9.13 ('base')",
   "language": "python",
   "name": "python3"
  },
  "language_info": {
   "codemirror_mode": {
    "name": "ipython",
    "version": 3
   },
   "file_extension": ".py",
   "mimetype": "text/x-python",
   "name": "python",
   "nbconvert_exporter": "python",
   "pygments_lexer": "ipython3",
   "version": "3.9.13"
  },
  "orig_nbformat": 4,
  "vscode": {
   "interpreter": {
    "hash": "64cdbf2ddcb9cd73e43d780a5c38adc9c5cb93dd1a925db9d35733ec03fb2329"
   }
  }
 },
 "nbformat": 4,
 "nbformat_minor": 2
}
