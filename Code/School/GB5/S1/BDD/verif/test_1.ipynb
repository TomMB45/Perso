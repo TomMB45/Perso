{
 "cells": [
  {
   "cell_type": "code",
   "execution_count": 1,
   "metadata": {},
   "outputs": [],
   "source": [
    "%load_ext autoreload\n",
    "%autoreload 2"
   ]
  },
  {
   "cell_type": "markdown",
   "metadata": {},
   "source": [
    "# test aleatoire"
   ]
  },
  {
   "cell_type": "markdown",
   "metadata": {},
   "source": [
    "## Parametres "
   ]
  },
  {
   "cell_type": "code",
   "execution_count": 2,
   "metadata": {},
   "outputs": [],
   "source": [
    "nb_pays = 10 \n",
    "nb_vegetaux = 10\n",
    "nb_parasites = 10\n",
    "nb_sensi = 5\n",
    "pays = [\"Allemagne\", \"Italie\", \"Espagne\", \"Portugal\", \"Belgique\", \"Suisse\", \"Luxembourg\", \"Pays-Bas\", \"Danemark\",\"USA\",\"Egypte\",\"Coree du Sud\",\"Japon\",\"Chine\",\"Russie\",\"Inde\",\"Indonesie\",\"Bresil\",\"Mexique\",\"Cameroun\",\"Benin\"]\n",
    "vegetaux = [\"Tomate\", \"Poivron\", \"Courgette\", \"Aubergine\", \"Haricot\", \"Pomme de terre\", \"Carotte\", \"Salade\", \"Chou\", \"Betterave\",\"Pin\",\"Chataignier\",\"Chene\",\"Peuplier\",\"Hetre\",\"Bouleau\",\"Frene\",\"If\",\"Charme\",\"Orme\",\"Marronnier\",\"Tilleul\",\"Noisetier\"]\n",
    "parasites = [\"Puceron\",\"Gui\",\"Chien\",\"Chat\",\"Lapin\",\"Pigeon\",\"Poule\",\"Poulet\",\"Cochon\",\"Vache\",\"Abeille\",\"Guepe\",\"Fourmi\",\"Moustique\",\"Punaise\",\"Mouche\",\"Papillon\",\"Coccinelle\",\"Araignee\",\"Sauterelle\"]"
   ]
  },
  {
   "cell_type": "code",
   "execution_count": 3,
   "metadata": {},
   "outputs": [
    {
     "name": "stdout",
     "output_type": "stream",
     "text": [
      "Pays choisi :  Pays-Bas\n",
      "Vegetal choisi :  Charme\n"
     ]
    }
   ],
   "source": [
    "## Choose a random country and a vegetable \n",
    "import random\n",
    "pays_choisi = random.choice(pays)\n",
    "vegetal_choisi = random.choice(vegetaux)\n",
    "print(\"Pays choisi : \", pays_choisi)\n",
    "print(\"Vegetal choisi : \", vegetal_choisi)"
   ]
  },
  {
   "cell_type": "code",
   "execution_count": 4,
   "metadata": {},
   "outputs": [
    {
     "name": "stdout",
     "output_type": "stream",
     "text": [
      "False\n"
     ]
    }
   ],
   "source": [
    "sample_pays = random.sample(pays, nb_pays)\n",
    "sample_vegetaux = random.sample(vegetaux, nb_vegetaux)\n",
    "sample_parasites = random.sample(parasites, nb_parasites)\n",
    "fill_p = [f\"INSERT INTO Pays (nom_pays, periode_quarantaine) VALUES ('{sample_pays[i]}', 0);\" for i in range(len(sample_pays))]\n",
    "fill_v = [f\"INSERT INTO Vegetal (nom_vegetal,duree_survie_v) VALUES ('{sample_vegetaux[i]}',0);\" for i in range(len(sample_vegetaux))]\n",
    "fill_pa = [f\"INSERT INTO Parasite (nom_parasite,duree_survie_p) VALUES ('{sample_parasites[i]}',0);\" for i in range(len(sample_parasites))]\n",
    "fill_sensi_volon = []\n",
    "oracle = False\n",
    "for i in range(30):\n",
    "    if len(sample_pays) == 0 or len(sample_vegetaux) == 0 :\n",
    "        break \n",
    "    p = random.choice(sample_pays)\n",
    "    v = random.choice(sample_vegetaux)\n",
    "    sample_pays.remove(p)\n",
    "    sample_vegetaux.remove(v)\n",
    "    env = 1\n",
    "    hist = random.randint(0,1)\n",
    "    fill_sensi_volon.append(f\"INSERT INTO sensible_volontairement (nom_pays, nom_vegetal,caractere_envahissant,historique) VALUES ('{p}', '{v}', {env}, {hist});\")\n",
    "    if p == pays_choisi and v == vegetal_choisi and env == 1 :\n",
    "        oracle = True \n",
    "\n",
    "f = open(\"data_file/1.txt\", \"w\")\n",
    "for i in fill_p:\n",
    "    f.write(i +\"\\n\")\n",
    "f.write(\"\\n\")\n",
    "for i in fill_v:\n",
    "    f.write(i +\"\\n\")\n",
    "f.write(\"\\n\")\n",
    "\n",
    "for i in fill_pa:\n",
    "    f.write(i +\"\\n\")\n",
    "f.write(\"\\n\")\n",
    "\n",
    "for i in fill_sensi_volon:\n",
    "    f.write(i +\"\\n\")\n",
    "f.write(\"\\n\")\n",
    "\n",
    "f.close()\n",
    "\n",
    "f = open(\"data_file/1_info.txt\", \"w\")\n",
    "f.write(f\"{pays_choisi}\\n{vegetal_choisi}\\n{oracle}\")\n",
    "f.close()\n",
    "\n",
    "print(f\"{oracle}\")\n"
   ]
  },
  {
   "cell_type": "markdown",
   "metadata": {},
   "source": [
    "## functions "
   ]
  },
  {
   "cell_type": "code",
   "execution_count": 6,
   "metadata": {},
   "outputs": [],
   "source": [
    "import random\n",
    "def generate_data(n_iter):\n",
    "    nb_pays = 10 \n",
    "    nb_vegetaux = 10\n",
    "    nb_parasites = 10\n",
    "    pays = [\"Allemagne\", \"Italie\", \"Espagne\", \"Portugal\", \"Belgique\", \"Suisse\", \"Luxembourg\", \"Pays-Bas\", \"Danemark\",\"USA\",\"Egypte\",\"Coree du Sud\",\"Japon\",\"Chine\",\"Russie\",\"Inde\",\"Indonesie\",\"Bresil\",\"Mexique\",\"Cameroun\",\"Benin\"]\n",
    "    vegetaux = [\"Tomate\", \"Poivron\", \"Courgette\", \"Aubergine\", \"Haricot\", \"Pomme de terre\", \"Carotte\", \"Salade\", \"Chou\", \"Betterave\",\"Pin\",\"Chataignier\",\"Chene\",\"Peuplier\",\"Hetre\",\"Bouleau\",\"Frene\",\"If\",\"Charme\",\"Orme\",\"Marronnier\",\"Tilleul\",\"Noisetier\"]\n",
    "    parasites = [\"Puceron\",\"Gui\",\"Chien\",\"Chat\",\"Lapin\",\"Pigeon\",\"Poule\",\"Poulet\",\"Cochon\",\"Vache\",\"Abeille\",\"Guepe\",\"Fourmi\",\"Moustique\",\"Punaise\",\"Mouche\",\"Papillon\",\"Coccinelle\",\"Araignee\",\"Sauterelle\"] \n",
    "    \n",
    "    pays_choisi = random.choice(pays)\n",
    "    vegetal_choisi = random.choice(vegetaux)\n",
    "    for iter in range(1,n_iter+1) : \n",
    "        sample_pays = random.sample(pays, nb_pays)\n",
    "        sample_vegetaux = random.sample(vegetaux, nb_vegetaux)\n",
    "        sample_parasites = random.sample(parasites, nb_parasites)\n",
    "        fill_p = [f\"INSERT INTO Pays (nom_pays, periode_quarantaine) VALUES ('{sample_pays[i]}', 0);\" for i in range(len(sample_pays))]\n",
    "        fill_v = [f\"INSERT INTO Vegetal (nom_vegetal,duree_survie_v) VALUES ('{sample_vegetaux[i]}',0);\" for i in range(len(sample_vegetaux))]\n",
    "        fill_pa = [f\"INSERT INTO Parasite (nom_parasite,duree_survie_p) VALUES ('{sample_parasites[i]}',0);\" for i in range(len(sample_parasites))]\n",
    "        fill_sensi_volon = []\n",
    "        oracle = False\n",
    "        while len(sample_pays) != 0 or len(sample_vegetaux) != 0 : \n",
    "            p = random.choice(sample_pays)\n",
    "            v = random.choice(sample_vegetaux)\n",
    "            sample_pays.remove(p)\n",
    "            sample_vegetaux.remove(v)\n",
    "            env = 1\n",
    "            hist = random.randint(0,1)\n",
    "            fill_sensi_volon.append(f\"INSERT INTO sensible_volontairement (nom_pays, nom_vegetal,caractere_envahissant,historique) VALUES ('{p}', '{v}', {env}, {hist});\")\n",
    "            if p == pays_choisi and v == vegetal_choisi and env == 1 :\n",
    "                oracle = True \n",
    "\n",
    "        f = open(f\"data_file/{iter}.txt\", \"w\")\n",
    "        for i in fill_p:\n",
    "            f.write(i +\"\\n\")\n",
    "        f.write(\"\\n\")\n",
    "        for i in fill_v:\n",
    "            f.write(i +\"\\n\")\n",
    "        f.write(\"\\n\")\n",
    "        for i in fill_pa:\n",
    "            f.write(i +\"\\n\")\n",
    "        f.write(\"\\n\")\n",
    "        for i in fill_sensi_volon:\n",
    "            f.write(i +\"\\n\")\n",
    "        f.write(\"\\n\")\n",
    "\n",
    "        f.close()\n",
    "\n",
    "        f = open(f\"data_file/{iter}_info.txt\", \"w\")\n",
    "        f.write(f\"{pays_choisi}\\n{vegetal_choisi}\\n{oracle}\")\n",
    "        f.close()\n",
    "\n",
    "generate_data(20)"
   ]
  }
 ],
 "metadata": {
  "kernelspec": {
   "display_name": "Python 3.9.13 ('base')",
   "language": "python",
   "name": "python3"
  },
  "language_info": {
   "codemirror_mode": {
    "name": "ipython",
    "version": 3
   },
   "file_extension": ".py",
   "mimetype": "text/x-python",
   "name": "python",
   "nbconvert_exporter": "python",
   "pygments_lexer": "ipython3",
   "version": "3.9.13"
  },
  "orig_nbformat": 4,
  "vscode": {
   "interpreter": {
    "hash": "64cdbf2ddcb9cd73e43d780a5c38adc9c5cb93dd1a925db9d35733ec03fb2329"
   }
  }
 },
 "nbformat": 4,
 "nbformat_minor": 2
}
